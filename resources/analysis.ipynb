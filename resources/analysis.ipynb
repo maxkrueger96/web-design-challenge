{
 "cells": [
  {
   "cell_type": "code",
   "execution_count": 1,
   "source": [
    "import pandas as pd\n",
    "import numpy as np\n",
    "from scipy import stats\n",
    "import matplotlib.pyplot as plt\n",
    "from sklearn import preprocessing as pre\n",
    "import logging"
   ],
   "outputs": [],
   "metadata": {}
  },
  {
   "cell_type": "code",
   "execution_count": 2,
   "source": [
    "logger = logging.getLogger()\n",
    "logger.setLevel(logging.CRITICAL)"
   ],
   "outputs": [],
   "metadata": {}
  },
  {
   "cell_type": "code",
   "execution_count": 3,
   "source": [
    "filename = open('./data/pokemon.csv')\n",
    "pokemon = pd.read_csv(filename)\n",
    "pokemon.head()"
   ],
   "outputs": [
    {
     "output_type": "execute_result",
     "data": {
      "text/html": [
       "<div>\n",
       "<style scoped>\n",
       "    .dataframe tbody tr th:only-of-type {\n",
       "        vertical-align: middle;\n",
       "    }\n",
       "\n",
       "    .dataframe tbody tr th {\n",
       "        vertical-align: top;\n",
       "    }\n",
       "\n",
       "    .dataframe thead th {\n",
       "        text-align: right;\n",
       "    }\n",
       "</style>\n",
       "<table border=\"1\" class=\"dataframe\">\n",
       "  <thead>\n",
       "    <tr style=\"text-align: right;\">\n",
       "      <th></th>\n",
       "      <th>name</th>\n",
       "      <th>pokedex_number</th>\n",
       "      <th>abilities</th>\n",
       "      <th>typing</th>\n",
       "      <th>hp</th>\n",
       "      <th>attack</th>\n",
       "      <th>defense</th>\n",
       "      <th>special_attack</th>\n",
       "      <th>special_defense</th>\n",
       "      <th>speed</th>\n",
       "      <th>...</th>\n",
       "      <th>ground_attack_effectiveness</th>\n",
       "      <th>fly_attack_effectiveness</th>\n",
       "      <th>psychic_attack_effectiveness</th>\n",
       "      <th>bug_attack_effectiveness</th>\n",
       "      <th>rock_attack_effectiveness</th>\n",
       "      <th>ghost_attack_effectiveness</th>\n",
       "      <th>dragon_attack_effectiveness</th>\n",
       "      <th>dark_attack_effectiveness</th>\n",
       "      <th>steel_attack_effectiveness</th>\n",
       "      <th>fairy_attack_effectiveness</th>\n",
       "    </tr>\n",
       "  </thead>\n",
       "  <tbody>\n",
       "    <tr>\n",
       "      <th>0</th>\n",
       "      <td>Bulbasaur</td>\n",
       "      <td>1</td>\n",
       "      <td>Overgrow~Chlorophyll</td>\n",
       "      <td>Grass~Poison</td>\n",
       "      <td>45</td>\n",
       "      <td>49</td>\n",
       "      <td>49</td>\n",
       "      <td>65</td>\n",
       "      <td>65</td>\n",
       "      <td>45</td>\n",
       "      <td>...</td>\n",
       "      <td>1.0</td>\n",
       "      <td>2.0</td>\n",
       "      <td>2.0</td>\n",
       "      <td>1.0</td>\n",
       "      <td>1.0</td>\n",
       "      <td>1.0</td>\n",
       "      <td>1.0</td>\n",
       "      <td>1.0</td>\n",
       "      <td>1.0</td>\n",
       "      <td>0.5</td>\n",
       "    </tr>\n",
       "    <tr>\n",
       "      <th>1</th>\n",
       "      <td>Ivysaur</td>\n",
       "      <td>2</td>\n",
       "      <td>Overgrow~Chlorophyll</td>\n",
       "      <td>Grass~Poison</td>\n",
       "      <td>60</td>\n",
       "      <td>62</td>\n",
       "      <td>63</td>\n",
       "      <td>80</td>\n",
       "      <td>80</td>\n",
       "      <td>60</td>\n",
       "      <td>...</td>\n",
       "      <td>1.0</td>\n",
       "      <td>2.0</td>\n",
       "      <td>2.0</td>\n",
       "      <td>1.0</td>\n",
       "      <td>1.0</td>\n",
       "      <td>1.0</td>\n",
       "      <td>1.0</td>\n",
       "      <td>1.0</td>\n",
       "      <td>1.0</td>\n",
       "      <td>0.5</td>\n",
       "    </tr>\n",
       "    <tr>\n",
       "      <th>2</th>\n",
       "      <td>Venusaur</td>\n",
       "      <td>3</td>\n",
       "      <td>Overgrow~Chlorophyll</td>\n",
       "      <td>Grass~Poison</td>\n",
       "      <td>80</td>\n",
       "      <td>82</td>\n",
       "      <td>83</td>\n",
       "      <td>100</td>\n",
       "      <td>100</td>\n",
       "      <td>80</td>\n",
       "      <td>...</td>\n",
       "      <td>1.0</td>\n",
       "      <td>2.0</td>\n",
       "      <td>2.0</td>\n",
       "      <td>1.0</td>\n",
       "      <td>1.0</td>\n",
       "      <td>1.0</td>\n",
       "      <td>1.0</td>\n",
       "      <td>1.0</td>\n",
       "      <td>1.0</td>\n",
       "      <td>0.5</td>\n",
       "    </tr>\n",
       "    <tr>\n",
       "      <th>3</th>\n",
       "      <td>Venusaur Gmax</td>\n",
       "      <td>3</td>\n",
       "      <td>Overgrow~Chlorophyll</td>\n",
       "      <td>Grass~Poison</td>\n",
       "      <td>80</td>\n",
       "      <td>82</td>\n",
       "      <td>83</td>\n",
       "      <td>100</td>\n",
       "      <td>100</td>\n",
       "      <td>80</td>\n",
       "      <td>...</td>\n",
       "      <td>1.0</td>\n",
       "      <td>2.0</td>\n",
       "      <td>2.0</td>\n",
       "      <td>1.0</td>\n",
       "      <td>1.0</td>\n",
       "      <td>1.0</td>\n",
       "      <td>1.0</td>\n",
       "      <td>1.0</td>\n",
       "      <td>1.0</td>\n",
       "      <td>0.5</td>\n",
       "    </tr>\n",
       "    <tr>\n",
       "      <th>4</th>\n",
       "      <td>Venusaur Mega</td>\n",
       "      <td>3</td>\n",
       "      <td>Thick Fat</td>\n",
       "      <td>Grass~Poison</td>\n",
       "      <td>80</td>\n",
       "      <td>100</td>\n",
       "      <td>123</td>\n",
       "      <td>122</td>\n",
       "      <td>120</td>\n",
       "      <td>80</td>\n",
       "      <td>...</td>\n",
       "      <td>1.0</td>\n",
       "      <td>2.0</td>\n",
       "      <td>2.0</td>\n",
       "      <td>1.0</td>\n",
       "      <td>1.0</td>\n",
       "      <td>1.0</td>\n",
       "      <td>1.0</td>\n",
       "      <td>1.0</td>\n",
       "      <td>1.0</td>\n",
       "      <td>0.5</td>\n",
       "    </tr>\n",
       "  </tbody>\n",
       "</table>\n",
       "<p>5 rows × 49 columns</p>\n",
       "</div>"
      ],
      "text/plain": [
       "            name  pokedex_number             abilities        typing  hp  \\\n",
       "0      Bulbasaur               1  Overgrow~Chlorophyll  Grass~Poison  45   \n",
       "1        Ivysaur               2  Overgrow~Chlorophyll  Grass~Poison  60   \n",
       "2       Venusaur               3  Overgrow~Chlorophyll  Grass~Poison  80   \n",
       "3  Venusaur Gmax               3  Overgrow~Chlorophyll  Grass~Poison  80   \n",
       "4  Venusaur Mega               3             Thick Fat  Grass~Poison  80   \n",
       "\n",
       "   attack  defense  special_attack  special_defense  speed  ...  \\\n",
       "0      49       49              65               65     45  ...   \n",
       "1      62       63              80               80     60  ...   \n",
       "2      82       83             100              100     80  ...   \n",
       "3      82       83             100              100     80  ...   \n",
       "4     100      123             122              120     80  ...   \n",
       "\n",
       "   ground_attack_effectiveness  fly_attack_effectiveness  \\\n",
       "0                          1.0                       2.0   \n",
       "1                          1.0                       2.0   \n",
       "2                          1.0                       2.0   \n",
       "3                          1.0                       2.0   \n",
       "4                          1.0                       2.0   \n",
       "\n",
       "  psychic_attack_effectiveness  bug_attack_effectiveness  \\\n",
       "0                          2.0                       1.0   \n",
       "1                          2.0                       1.0   \n",
       "2                          2.0                       1.0   \n",
       "3                          2.0                       1.0   \n",
       "4                          2.0                       1.0   \n",
       "\n",
       "   rock_attack_effectiveness  ghost_attack_effectiveness  \\\n",
       "0                        1.0                         1.0   \n",
       "1                        1.0                         1.0   \n",
       "2                        1.0                         1.0   \n",
       "3                        1.0                         1.0   \n",
       "4                        1.0                         1.0   \n",
       "\n",
       "   dragon_attack_effectiveness  dark_attack_effectiveness  \\\n",
       "0                          1.0                        1.0   \n",
       "1                          1.0                        1.0   \n",
       "2                          1.0                        1.0   \n",
       "3                          1.0                        1.0   \n",
       "4                          1.0                        1.0   \n",
       "\n",
       "   steel_attack_effectiveness  fairy_attack_effectiveness  \n",
       "0                         1.0                         0.5  \n",
       "1                         1.0                         0.5  \n",
       "2                         1.0                         0.5  \n",
       "3                         1.0                         0.5  \n",
       "4                         1.0                         0.5  \n",
       "\n",
       "[5 rows x 49 columns]"
      ]
     },
     "metadata": {},
     "execution_count": 3
    }
   ],
   "metadata": {}
  },
  {
   "cell_type": "code",
   "execution_count": 4,
   "source": [
    "pokemon.keys()"
   ],
   "outputs": [
    {
     "output_type": "execute_result",
     "data": {
      "text/plain": [
       "Index(['name', 'pokedex_number', 'abilities', 'typing', 'hp', 'attack',\n",
       "       'defense', 'special_attack', 'special_defense', 'speed', 'height',\n",
       "       'weight', 'genus', 'gen_introduced', 'female_rate', 'genderless',\n",
       "       'baby_pokemon', 'legendary', 'mythical', 'is_default',\n",
       "       'forms_switchable', 'base_experience', 'capture_rate', 'egg_groups',\n",
       "       'egg_cycles', 'base_happiness', 'can_evolve', 'evolves_from',\n",
       "       'primary_color', 'shape', 'number_pokemon_with_typing',\n",
       "       'normal_attack_effectiveness', 'fire_attack_effectiveness',\n",
       "       'water_attack_effectiveness', 'electric_attack_effectiveness',\n",
       "       'grass_attack_effectiveness', 'ice_attack_effectiveness',\n",
       "       'fighting_attack_effectiveness', 'poison_attack_effectiveness',\n",
       "       'ground_attack_effectiveness', 'fly_attack_effectiveness',\n",
       "       'psychic_attack_effectiveness', 'bug_attack_effectiveness',\n",
       "       'rock_attack_effectiveness', 'ghost_attack_effectiveness',\n",
       "       'dragon_attack_effectiveness', 'dark_attack_effectiveness',\n",
       "       'steel_attack_effectiveness', 'fairy_attack_effectiveness'],\n",
       "      dtype='object')"
      ]
     },
     "metadata": {},
     "execution_count": 4
    }
   ],
   "metadata": {}
  },
  {
   "cell_type": "code",
   "execution_count": 5,
   "source": [
    "#get rid of mega/gmax forms\n",
    "gmax_names = [p for p in pokemon.name if 'Gmax' in p or 'Mega' in p and p != 'Meganium']\n",
    "gmax_megas = pd.Series(gmax_names,name='name')\n",
    "gmax_megas = pokemon.merge(gmax_megas)\n",
    "for p in pokemon.name:\n",
    "    if 'Gmax' in p or 'Mega' in p:\n",
    "        if p == 'Meganium':\n",
    "            pass\n",
    "        else:\n",
    "            pokemon.drop(pokemon.loc[pokemon.name == p].index,axis=0,inplace=True)"
   ],
   "outputs": [],
   "metadata": {}
  },
  {
   "cell_type": "code",
   "execution_count": 6,
   "source": [
    "types = pokemon.typing.drop_duplicates()\n",
    "monotypes = []\n",
    "for t in types:\n",
    "    if '~' not in t:\n",
    "        monotypes.append(t)\n",
    "effectives = [f'{t.lower()}_attack_effectiveness' for t in monotypes if t != 'Flying']\n",
    "effectives.append('fly_attack_effectiveness')\n",
    "pokemon.drop(columns=effectives,inplace=True)"
   ],
   "outputs": [],
   "metadata": {}
  },
  {
   "cell_type": "code",
   "execution_count": 7,
   "source": [
    "twotype = pokemon.typing.str.split('~',expand=True)\n",
    "twotype.rename(columns={0:'primary_type',1:'second_type'},inplace=True)"
   ],
   "outputs": [],
   "metadata": {}
  },
  {
   "cell_type": "code",
   "execution_count": 8,
   "source": [
    "pokestats = pd.DataFrame([pokemon.name,pokemon.pokedex_number,twotype.primary_type,twotype.second_type,pokemon.weight,pokemon.height,pokemon.hp,pokemon.attack,pokemon.defense,pokemon.special_attack,pokemon.special_defense,pokemon.speed]).T\n",
    "pokestats.set_index(pokestats.name,inplace=True)\n",
    "pokestats.drop(columns='name',inplace=True)"
   ],
   "outputs": [],
   "metadata": {}
  },
  {
   "cell_type": "code",
   "execution_count": 9,
   "source": [
    "pokestats.head()"
   ],
   "outputs": [
    {
     "output_type": "execute_result",
     "data": {
      "text/html": [
       "<div>\n",
       "<style scoped>\n",
       "    .dataframe tbody tr th:only-of-type {\n",
       "        vertical-align: middle;\n",
       "    }\n",
       "\n",
       "    .dataframe tbody tr th {\n",
       "        vertical-align: top;\n",
       "    }\n",
       "\n",
       "    .dataframe thead th {\n",
       "        text-align: right;\n",
       "    }\n",
       "</style>\n",
       "<table border=\"1\" class=\"dataframe\">\n",
       "  <thead>\n",
       "    <tr style=\"text-align: right;\">\n",
       "      <th></th>\n",
       "      <th>pokedex_number</th>\n",
       "      <th>primary_type</th>\n",
       "      <th>second_type</th>\n",
       "      <th>weight</th>\n",
       "      <th>height</th>\n",
       "      <th>hp</th>\n",
       "      <th>attack</th>\n",
       "      <th>defense</th>\n",
       "      <th>special_attack</th>\n",
       "      <th>special_defense</th>\n",
       "      <th>speed</th>\n",
       "    </tr>\n",
       "    <tr>\n",
       "      <th>name</th>\n",
       "      <th></th>\n",
       "      <th></th>\n",
       "      <th></th>\n",
       "      <th></th>\n",
       "      <th></th>\n",
       "      <th></th>\n",
       "      <th></th>\n",
       "      <th></th>\n",
       "      <th></th>\n",
       "      <th></th>\n",
       "      <th></th>\n",
       "    </tr>\n",
       "  </thead>\n",
       "  <tbody>\n",
       "    <tr>\n",
       "      <th>Bulbasaur</th>\n",
       "      <td>1</td>\n",
       "      <td>Grass</td>\n",
       "      <td>Poison</td>\n",
       "      <td>69</td>\n",
       "      <td>7</td>\n",
       "      <td>45</td>\n",
       "      <td>49</td>\n",
       "      <td>49</td>\n",
       "      <td>65</td>\n",
       "      <td>65</td>\n",
       "      <td>45</td>\n",
       "    </tr>\n",
       "    <tr>\n",
       "      <th>Ivysaur</th>\n",
       "      <td>2</td>\n",
       "      <td>Grass</td>\n",
       "      <td>Poison</td>\n",
       "      <td>130</td>\n",
       "      <td>10</td>\n",
       "      <td>60</td>\n",
       "      <td>62</td>\n",
       "      <td>63</td>\n",
       "      <td>80</td>\n",
       "      <td>80</td>\n",
       "      <td>60</td>\n",
       "    </tr>\n",
       "    <tr>\n",
       "      <th>Venusaur</th>\n",
       "      <td>3</td>\n",
       "      <td>Grass</td>\n",
       "      <td>Poison</td>\n",
       "      <td>1000</td>\n",
       "      <td>20</td>\n",
       "      <td>80</td>\n",
       "      <td>82</td>\n",
       "      <td>83</td>\n",
       "      <td>100</td>\n",
       "      <td>100</td>\n",
       "      <td>80</td>\n",
       "    </tr>\n",
       "    <tr>\n",
       "      <th>Charmander</th>\n",
       "      <td>4</td>\n",
       "      <td>Fire</td>\n",
       "      <td>None</td>\n",
       "      <td>85</td>\n",
       "      <td>6</td>\n",
       "      <td>39</td>\n",
       "      <td>52</td>\n",
       "      <td>43</td>\n",
       "      <td>60</td>\n",
       "      <td>50</td>\n",
       "      <td>65</td>\n",
       "    </tr>\n",
       "    <tr>\n",
       "      <th>Charmeleon</th>\n",
       "      <td>5</td>\n",
       "      <td>Fire</td>\n",
       "      <td>None</td>\n",
       "      <td>190</td>\n",
       "      <td>11</td>\n",
       "      <td>58</td>\n",
       "      <td>64</td>\n",
       "      <td>58</td>\n",
       "      <td>80</td>\n",
       "      <td>65</td>\n",
       "      <td>80</td>\n",
       "    </tr>\n",
       "  </tbody>\n",
       "</table>\n",
       "</div>"
      ],
      "text/plain": [
       "           pokedex_number primary_type second_type weight height  hp attack  \\\n",
       "name                                                                          \n",
       "Bulbasaur               1        Grass      Poison     69      7  45     49   \n",
       "Ivysaur                 2        Grass      Poison    130     10  60     62   \n",
       "Venusaur                3        Grass      Poison   1000     20  80     82   \n",
       "Charmander              4         Fire        None     85      6  39     52   \n",
       "Charmeleon              5         Fire        None    190     11  58     64   \n",
       "\n",
       "           defense special_attack special_defense speed  \n",
       "name                                                     \n",
       "Bulbasaur       49             65              65    45  \n",
       "Ivysaur         63             80              80    60  \n",
       "Venusaur        83            100             100    80  \n",
       "Charmander      43             60              50    65  \n",
       "Charmeleon      58             80              65    80  "
      ]
     },
     "metadata": {},
     "execution_count": 9
    }
   ],
   "metadata": {}
  },
  {
   "cell_type": "code",
   "execution_count": 10,
   "source": [
    "statsbytype = pokestats.groupby('primary_type')\n",
    "bytypes = dict.fromkeys(monotypes)\n",
    "bytypes_desc = dict.fromkeys(monotypes)\n",
    "by2types_desc = dict.fromkeys(monotypes)\n",
    "\n",
    "for t in monotypes:\n",
    "    tp = statsbytype[['second_type','hp','attack','defense','special_attack','special_defense','speed']].get_group(t)\n",
    "    tpnum = statsbytype[['hp','attack','defense','special_attack','special_defense','speed']].get_group(t)\n",
    "    tp = tp.apply(pd.to_numeric, errors='ignore')\n",
    "    tpnum =  tpnum.apply(pd.to_numeric,errors='ignore')\n",
    "    bytypes[t] = tpnum\n",
    "    bytypes_desc[t] = tp.describe()\n",
    "    bytypes_desc[t] = bytypes_desc[t].apply(round,ndigits = 0)\n",
    "    by2types_desc[t] = tp.groupby('second_type').describe()\n",
    "    by2types_desc[t] = by2types_desc[t].apply(round,ndigits = 0)"
   ],
   "outputs": [],
   "metadata": {}
  },
  {
   "cell_type": "markdown",
   "source": [
    "# Andrews Curves for Type Stats"
   ],
   "metadata": {}
  },
  {
   "cell_type": "code",
   "execution_count": 11,
   "source": [
    "typenorm = dict.fromkeys(monotypes)\n",
    "for t in monotypes:\n",
    "   norm = pre.normalize(bytypes[t])\n",
    "   normdf = pd.DataFrame(norm,columns=[0,1,2,3,4,5])\n",
    "   # lower, upper = np.quantile(normdf),.25-1.5*stats.iqr(normdf.values), np.quantile(normdf.values,.75)+1.5*stats.iqr(normdf.values)\n",
    "   typenorm[t] = normdf.T\n",
    "   typenorm[t]['Stat'] = ['hp','attack','defense','special_attack','special_defense','speed']"
   ],
   "outputs": [],
   "metadata": {}
  },
  {
   "cell_type": "code",
   "execution_count": 47,
   "source": [
    "types1 = np.array([['Grass','Water','Fire'],['Normal','Flying','Bug']])\n",
    "types2 = np.array([['Psychic','Ghost', 'Dark'],['Ground', 'Rock', 'Fighting']])\n",
    "types3 = np.array([['Electric','Ice','Poison'],['Dragon', 'Fairy', 'Steel']])\n",
    "colortypes1 = np.array([['xkcd:pale green','xkcd:baby blue','xkcd:rose'],['xkcd:beige',\"xkcd:light periwinkle\",'xkcd:pale olive green']])\n",
    "colortypes2 = np.array([['xkcd:pale magenta','xkcd:dusty lavender','xkcd:almost black'],['xkcd:sandy brown','xkcd:grey brown','xkcd:pale orange']])\n",
    "colortypes3 = np.array([['xkcd:neon yellow','xkcd:ice blue','xkcd:soft purple'],['xkcd:sky blue','xkcd:pale pink', 'xkcd:steel blue']])\n",
    "colorstats = ['xkcd:fire engine red','xkcd:brick orange', 'xkcd:sunflower yellow','xkcd:clear blue', 'xkcd:lawn green', 'xkcd:magenta']"
   ],
   "outputs": [],
   "metadata": {}
  },
  {
   "cell_type": "code",
   "execution_count": 63,
   "source": [
    "# first round of types\n",
    "fig, axs = plt.subplots(2,3,figsize=(18,15),facecolor='xkcd:light blue grey')\n",
    "for i in range(2):\n",
    "    for j in range(3):\n",
    "        pd.plotting.andrews_curves(typenorm[types1[i,j]],class_column='Stat',ax=axs[i,j],color=colorstats)\n",
    "        axs[i,j].set_facecolor(colortypes1[i,j])\n",
    "        axs[i,j].set_title(f'{types1[i,j]}-Type Pokemon Stat Curves')\n",
    "plt.tight_layout()\n",
    "plt.savefig('./assets/plots/type-stats/type-stats1.png')\n",
    "plt.close('all')"
   ],
   "outputs": [],
   "metadata": {}
  },
  {
   "cell_type": "code",
   "execution_count": 60,
   "source": [
    "# 2nd round of types\n",
    "fig, axs = plt.subplots(2,3,figsize=(18,15),facecolor='xkcd:light blue grey')\n",
    "for i in range(2):\n",
    "    for j in range(3):\n",
    "        pd.plotting.andrews_curves(typenorm[types2[i,j]],class_column='Stat',ax=axs[i,j],color=colorstats)\n",
    "        axs[i,j].set_facecolor(colortypes2[i,j])\n",
    "        axs[i,j].set_title(f'{types2[i,j]}-Type Pokemon Stat Curves')\n",
    "plt.tight_layout()\n",
    "plt.savefig('./assets/plots/type-stats/type-stats2.png')\n",
    "plt.close('all')"
   ],
   "outputs": [],
   "metadata": {}
  },
  {
   "cell_type": "code",
   "execution_count": 59,
   "source": [
    "# last round of types\n",
    "fig, axs = plt.subplots(2,3,figsize=(18,15),facecolor='xkcd:light blue grey')\n",
    "for i in range(2):\n",
    "    for j in range(3):\n",
    "        pd.plotting.andrews_curves(typenorm[types3[i,j]],class_column='Stat',ax=axs[i,j],color=colorstats)\n",
    "        axs[i,j].set_facecolor(colortypes3[i,j])\n",
    "        axs[i,j].set_title(f'{types3[i,j]}-Type Pokemon Stat Curves')\n",
    "plt.tight_layout()\n",
    "plt.savefig('./assets/plots/type-stats/type-stats3.png')\n",
    "plt.close('all')"
   ],
   "outputs": [],
   "metadata": {}
  },
  {
   "cell_type": "markdown",
   "source": [
    "# Weight/Height vs Stats"
   ],
   "metadata": {}
  },
  {
   "cell_type": "markdown",
   "source": [
    "## Weight"
   ],
   "metadata": {}
  },
  {
   "cell_type": "code",
   "execution_count": 17,
   "source": [
    "weight = pre.normalize(np.reshape(pokestats.weight.values,(-1,1)),axis=0)\n",
    "hp = pre.normalize(np.reshape(pokestats.hp.values,(-1,1)),axis=0)\n",
    "attack = pre.normalize(np.reshape(pokestats.attack.values,(-1,1)),axis=0)\n",
    "defense = pre.normalize(np.reshape(pokestats.defense.values,(-1,1)),axis=0)\n",
    "sp_attack = pre.normalize(np.reshape(pokestats.special_attack.values,(-1,1)),axis=0)\n",
    "sp_defense = pre.normalize(np.reshape(pokestats.special_defense.values,(-1,1)),axis=0)\n",
    "speed = pre.normalize(np.reshape(pokestats.speed.values,(-1,1)),axis=0)"
   ],
   "outputs": [],
   "metadata": {}
  },
  {
   "cell_type": "markdown",
   "source": [
    "## Weight Frequency (Log-Transform)"
   ],
   "metadata": {}
  },
  {
   "cell_type": "code",
   "execution_count": 58,
   "source": [
    "fig, ax = plt.subplots(facecolor='xkcd:light blue grey')\n",
    "ax.hist(weight,bins=100,color='xkcd:dark lilac',label='Log-Frequency')\n",
    "plt.legend()\n",
    "ax.set_yscale('log')\n",
    "ax.set_xlabel('Weight')\n",
    "ax.set_facecolor('xkcd:pale turquoise')\n",
    "ax.set_title('Log-Tranform Frequency of Pokemon Weight')\n",
    "plt.savefig('./assets/plots/weight-stats/weight_freq.png')\n",
    "plt.close('all')"
   ],
   "outputs": [],
   "metadata": {}
  },
  {
   "cell_type": "markdown",
   "source": [
    "## Weight vs. Stats"
   ],
   "metadata": {}
  },
  {
   "cell_type": "code",
   "execution_count": 19,
   "source": [
    "lower, upper = np.quantile(weight,.25)-1.5*stats.iqr(weight), np.quantile(weight,.75)+1.5*stats.iqr(weight)\n",
    "heavy_weight = np.where(np.logical_or(weight<=lower,weight>=upper))\n",
    "bad_weight = weight[heavy_weight]\n",
    "bad_hp = hp[heavy_weight]\n",
    "bad_attack = attack[heavy_weight]\n",
    "bad_defense = defense[heavy_weight]\n",
    "bad_spattack = sp_attack[heavy_weight]\n",
    "bad_spdefense = sp_defense[heavy_weight]\n",
    "bad_speed = speed[heavy_weight]"
   ],
   "outputs": [],
   "metadata": {}
  },
  {
   "cell_type": "code",
   "execution_count": 20,
   "source": [
    "light_weight = np.where(np.logical_and(weight>lower,weight<upper))\n",
    "new_weight = weight[light_weight]\n",
    "light_hp = hp[light_weight]\n",
    "light_attack = attack[light_weight]\n",
    "light_defense = defense[light_weight]\n",
    "light_spattack = sp_attack[light_weight]\n",
    "light_spdefense = sp_defense[light_weight]\n",
    "light_speed = speed[light_weight]"
   ],
   "outputs": [],
   "metadata": {}
  },
  {
   "cell_type": "code",
   "execution_count": 21,
   "source": [
    "fig, axs = plt.subplots(2,3,figsize=(12,10),facecolor='xkcd:light blue grey')\n",
    "colors = np.array([['xkcd:rose pink','xkcd:orange pink','xkcd:ugly yellow'],['xkcd:bluey green', 'xkcd:vibrant blue', 'xkcd:bright violet']])\n",
    "lwstat = np.array([[light_hp,light_attack,light_defense],[light_spattack,light_spdefense,light_speed]])\n",
    "badstat = np.array([[bad_hp,bad_attack,bad_defense],[bad_spattack,bad_spdefense,bad_speed]])\n",
    "stat_name = np.array([['Hp','Attack','Defense'],['Sp. Attack','Sp. Defense','Speed']])\n",
    "for i in range(2):\n",
    "    for j in range(3):\n",
    "        axs[i,j].scatter(new_weight,lwstat[i,j],c=colors[i,j],alpha=0.75,edgecolor='xkcd:dark grey')\n",
    "        axs[i,j].scatter(bad_weight,badstat[i,j],c='xkcd:brownish grey', edgecolor='xkcd:dark grey',alpha=0.5,label='Outliers')\n",
    "        axs[i,j].set_xlabel('Pokemon Weight (lbs)')\n",
    "        axs[i,j].set_ylabel(f'Pokemon {stat_name[i,j]}')\n",
    "        axs[i,j].set_title(f'Pokemon Weight versus {stat_name[i,j]}',fontsize=14)\n",
    "        axs[i,j].set_facecolor('xkcd:very light pink')\n",
    "        axs[0,j].legend(loc='lower right')\n",
    "        axs[1,j].legend(loc='upper right')\n",
    "plt.tight_layout()\n",
    "plt.savefig('./assets/plots/weight-stats/weight_stats.png')\n",
    "plt.close('all')"
   ],
   "outputs": [],
   "metadata": {}
  },
  {
   "cell_type": "markdown",
   "source": [
    "## Weight Outliers Removed"
   ],
   "metadata": {}
  },
  {
   "cell_type": "code",
   "execution_count": 57,
   "source": [
    "fig, ax = plt.subplots(facecolor='xkcd:light blue grey')\n",
    "ax.hist(new_weight,bins=50,color='xkcd:dark lilac',label='Frequency')\n",
    "plt.legend()\n",
    "ax.set_xlabel('Weight')\n",
    "ax.set_title('Frequency of Pokemon Weight \\n (Outliers Removed)')\n",
    "ax.set_facecolor('xkcd:pale turquoise')\n",
    "plt.savefig('./assets/plots/weight-stats/lightweight_freq.png')\n",
    "plt.close('all')"
   ],
   "outputs": [],
   "metadata": {}
  },
  {
   "cell_type": "code",
   "execution_count": 23,
   "source": [
    "fig, axs = plt.subplots(2,3,figsize=(12,10),facecolor='xkcd:light blue grey')\n",
    "for i in range(2):\n",
    "    for j in range(3):\n",
    "        axs[i,j].scatter(new_weight,lwstat[i,j],c=colors[i,j],alpha=0.75,edgecolor='xkcd:dark grey')\n",
    "        axs[i,j].set_xlabel('Pokemon Weight (lbs)')\n",
    "        axs[i,j].set_ylabel(f'Pokemon {stat_name[i,j]}')\n",
    "        axs[i,j].set_title(f'Pokemon Weight versus {stat_name[i,j]} \\n (Weight Outliers Removed)',fontsize=14)\n",
    "        axs[i,j].set_facecolor('xkcd:very light pink')\n",
    "plt.tight_layout()\n",
    "plt.savefig('./assets/plots/weight-stats/lightweight_stats.png')\n",
    "plt.close('all')"
   ],
   "outputs": [],
   "metadata": {}
  },
  {
   "cell_type": "markdown",
   "source": [
    "## Height"
   ],
   "metadata": {}
  },
  {
   "cell_type": "code",
   "execution_count": 24,
   "source": [
    "height = pre.normalize(np.reshape(pokestats.height.values,(-1,1)),axis=0)\n",
    "hp = pre.normalize(np.reshape(pokestats.hp.values,(-1,1)),axis=0)\n",
    "attack = pre.normalize(np.reshape(pokestats.attack.values,(-1,1)),axis=0)\n",
    "defense = pre.normalize(np.reshape(pokestats.defense.values,(-1,1)),axis=0)\n",
    "spattack = pre.normalize(np.reshape(pokestats.special_attack.values,(-1,1)),axis=0)\n",
    "spdefense = pre.normalize(np.reshape(pokestats.special_defense.values,(-1,1)),axis=0)\n",
    "speed = pre.normalize(np.reshape(pokestats.speed.values,(-1,1)),axis=0)"
   ],
   "outputs": [],
   "metadata": {}
  },
  {
   "cell_type": "markdown",
   "source": [
    "## Height Frequency"
   ],
   "metadata": {}
  },
  {
   "cell_type": "code",
   "execution_count": 56,
   "source": [
    "fig, ax = plt.subplots(facecolor='xkcd:light blue grey')\n",
    "ax.hist(height,bins=100,color='xkcd:turquoise',label='Log-Frequency')\n",
    "plt.legend()\n",
    "ax.set_yscale('log')\n",
    "ax.set_xlabel('Height')\n",
    "ax.set_facecolor('xkcd:pale lilac')\n",
    "ax.set_title('Log-Tranform Frequency of Pokemon Height')\n",
    "plt.savefig('./assets/plots/height-stats/height_freq.png')\n",
    "plt.close('all')"
   ],
   "outputs": [],
   "metadata": {}
  },
  {
   "cell_type": "markdown",
   "source": [
    "## Height vs. Stats"
   ],
   "metadata": {}
  },
  {
   "cell_type": "code",
   "execution_count": 26,
   "source": [
    "lower, upper = np.quantile(height,.25)-1.5*stats.iqr(height), np.quantile(height,.75)+1.5*stats.iqr(height)\n",
    "out_height = np.where(np.logical_or(height<=lower,height>=upper))\n",
    "bad_height = height[out_height]\n",
    "badh_hp = hp[out_height]\n",
    "badh_attack = attack[out_height]\n",
    "badh_defense = defense[out_height]\n",
    "badh_spattack = sp_attack[out_height]\n",
    "badh_spdefense = sp_defense[out_height]\n",
    "badh_speed = speed[out_height]"
   ],
   "outputs": [],
   "metadata": {}
  },
  {
   "cell_type": "code",
   "execution_count": 27,
   "source": [
    "short_height = np.where(np.logical_and(height>lower,height<upper))\n",
    "new_height = height[short_height]\n",
    "short_hp = hp[short_height]\n",
    "short_attack = attack[short_height]\n",
    "short_defense = defense[short_height]\n",
    "short_spattack = sp_attack[short_height]\n",
    "short_spdefense = sp_defense[short_height]\n",
    "short_speed = speed[short_height]"
   ],
   "outputs": [],
   "metadata": {}
  },
  {
   "cell_type": "code",
   "execution_count": 28,
   "source": [
    "fig, axs = plt.subplots(2,3,figsize=(12,10),facecolor='xkcd:light blue grey')\n",
    "shstat = np.array([[short_hp,short_attack,short_defense],[short_spattack,short_spdefense,short_speed]])\n",
    "badstat = np.array([[badh_hp,badh_attack,badh_defense],[badh_spattack,badh_spdefense,badh_speed]])\n",
    "\n",
    "for i in range(2):\n",
    "    for j in range(3):\n",
    "        axs[i,j].scatter(new_height,shstat[i,j],c=colors[i,j],alpha=0.75,edgecolor='xkcd:dark grey')\n",
    "        axs[i,j].scatter(bad_height,badstat[i,j],c='xkcd:brownish grey',alpha=0.5,edgecolor='xkcd:dark grey',label='Outliers')\n",
    "        axs[i,j].set_xlabel('Pokemon Height (ft)')\n",
    "        axs[i,j].set_ylabel(f'Pokemon {stat_name[i,j]}')\n",
    "        axs[i,j].set_title(f'Pokemon Height versus {stat_name[i,j]}',fontsize=14)\n",
    "        axs[i,j].set_facecolor('xkcd:very light pink')\n",
    "        axs[0,j].legend(loc='lower right')\n",
    "        axs[1,j].legend(loc='upper right')\n",
    "plt.tight_layout()\n",
    "plt.savefig('./assets/plots/height-stats/height_stats.png')\n",
    "plt.close('all')"
   ],
   "outputs": [],
   "metadata": {}
  },
  {
   "cell_type": "markdown",
   "source": [
    "## Height Outliers Removed"
   ],
   "metadata": {}
  },
  {
   "cell_type": "code",
   "execution_count": 55,
   "source": [
    "fig, ax = plt.subplots(facecolor='xkcd:light blue grey')\n",
    "ax.hist(new_height,bins=20,color='xkcd:turquoise',label='Frequency')\n",
    "plt.legend()\n",
    "ax.set_xlabel('Height')\n",
    "ax.set_title('Frequency of Pokemon Height \\n (Outliers Removed)')\n",
    "ax.set_facecolor('xkcd:pale lilac')\n",
    "plt.savefig('./assets/plots/height-stats/shortheight_freq.png')\n",
    "plt.close('all')"
   ],
   "outputs": [],
   "metadata": {}
  },
  {
   "cell_type": "code",
   "execution_count": 30,
   "source": [
    "fig, axs = plt.subplots(2,3,figsize=(12,10),facecolor='xkcd:light blue grey')\n",
    "for i in range(2):\n",
    "    for j in range(3):\n",
    "        axs[i,j].scatter(new_height,shstat[i,j],c=colors[i,j],alpha=0.75,edgecolor='xkcd:dark grey')\n",
    "        axs[i,j].set_xlabel('Pokemon Height (lbs)')\n",
    "        axs[i,j].set_ylabel(f'Pokemon {stat_name[i,j]}')\n",
    "        axs[i,j].set_title(f'Pokemon Height versus {stat_name[i,j]} \\n (Height Outliers Removed)',fontsize=14)\n",
    "        axs[i,j].set_facecolor('xkcd:very light pink')  \n",
    "plt.tight_layout()\n",
    "plt.savefig('./assets/plots/height-stats/shortheight_stats.png')\n",
    "plt.close('all')"
   ],
   "outputs": [],
   "metadata": {}
  },
  {
   "cell_type": "code",
   "execution_count": 31,
   "source": [
    "pokebasics = pd.DataFrame([pokemon.name,pokemon.pokedex_number,pokemon.abilities,pokemon.typing,pokemon.gen_introduced,pokemon.can_evolve,pokemon.evolves_from,pokemon.number_pokemon_with_typing]).T"
   ],
   "outputs": [],
   "metadata": {}
  },
  {
   "cell_type": "code",
   "execution_count": 32,
   "source": [
    "pokecolor = pd.DataFrame([pokemon.name, pokemon.pokedex_number,pokemon.primary_color]).T"
   ],
   "outputs": [],
   "metadata": {}
  },
  {
   "cell_type": "code",
   "execution_count": 33,
   "source": [
    "pokecolor.set_index(pokecolor.name,inplace=True)\n",
    "pokecolor.drop(columns='name', inplace=True)"
   ],
   "outputs": [],
   "metadata": {}
  },
  {
   "cell_type": "code",
   "execution_count": 34,
   "source": [
    "pokecolor = pokecolor.merge(pokestats.primary_type,right_index=True,left_index=True)\n",
    "pokecolor = pokecolor.merge(pokestats.second_type,right_index=True,left_index=True)"
   ],
   "outputs": [],
   "metadata": {}
  },
  {
   "cell_type": "code",
   "execution_count": 52,
   "source": [
    "colors = dict.fromkeys(set(pokecolor.primary_color.values))\n",
    "colortype = dict.fromkeys(monotypes)\n",
    "fig, axs = plt.subplots(2,3,figsize=(20,12),facecolor='xkcd:light blue grey')\n",
    "for i in range(2):\n",
    "    for j in range(3):  \n",
    "        tcount = pokecolor.primary_color.loc[pokecolor.primary_type==types1[i,j]].value_counts()\n",
    "        poketotal1 = len(pokecolor.pokedex_number.loc[pokecolor.primary_type==types1[i,j]])\n",
    "        colortype[types1[i,j]] = tcount.plot.bar(rot=0,color=colortypes1[i,j],ax=axs[i,j],edgecolor='k',width=.85,label=f\"Total no. of Primarily\\n{types1[i,j]}-type Pokemon:\\n{poketotal1}\")\n",
    "        colortype[types1[i,j]].set_ylabel(\"Color Frequency\",fontsize=16)\n",
    "        colortype[types1[i,j]].set_title(f\"Color Distribution for {types1[i,j]}-Type Pokemon\", fontsize=18)\n",
    "        colortype[types1[i,j]].set_facecolor('xkcd:light peach')\n",
    "        colortype[types1[i,j]].legend(loc='upper right',fontsize=14)\n",
    "        plt.setp(colortype[types1[i,j]].get_xticklabels(), fontsize=14)\n",
    "plt.tight_layout()\n",
    "plt.savefig('./assets/plots/color-count/colorbytype1.png')\n",
    "plt.close('all')"
   ],
   "outputs": [],
   "metadata": {}
  },
  {
   "cell_type": "code",
   "execution_count": 53,
   "source": [
    "colors = dict.fromkeys(set(pokecolor.primary_color.values))\n",
    "colortype = dict.fromkeys(monotypes)\n",
    "fig, axs = plt.subplots(2,3,figsize=(20,12),facecolor='xkcd:light blue grey')\n",
    "for i in range(2):\n",
    "    for j in range(3):  \n",
    "        tcount = pokecolor.primary_color.loc[pokecolor.primary_type==types2[i,j]].value_counts()\n",
    "        poketotal2 = len(pokecolor.pokedex_number.loc[pokecolor.primary_type==types2[i,j]]) \n",
    "        colortype[types2[i,j]] = tcount.plot.bar(rot=0,color=colortypes2[i,j],ax=axs[i,j],edgecolor='k',width=.85,label=f\"Total no. of Primarily\\n{types2[i,j]}-type Pokemon:\\n{poketotal2}\")\n",
    "        colortype[types2[i,j]].set_ylabel(\"Color Frequency\",fontsize=16)\n",
    "        colortype[types2[i,j]].set_title(f\"Color Distribution for {types2[i,j]}-Type Pokemon\", fontsize=18)\n",
    "        colortype[types2[i,j]].set_facecolor('xkcd:light peach')\n",
    "        colortype[types2[i,j]].legend(loc='upper right',fontsize=14)\n",
    "        plt.setp(colortype[types2[i,j]].get_xticklabels(), fontsize=14)\n",
    "\n",
    "plt.tight_layout()\n",
    "plt.savefig('./assets/plots/color-count/colorbytype2.png')\n",
    "plt.close('all')"
   ],
   "outputs": [],
   "metadata": {}
  },
  {
   "cell_type": "code",
   "execution_count": 54,
   "source": [
    "colors = dict.fromkeys(set(pokecolor.primary_color.values))\n",
    "colortype = dict.fromkeys(monotypes)\n",
    "fig, axs = plt.subplots(2,3,figsize=(20,12),facecolor='xkcd:light blue grey')\n",
    "for i in range(2):\n",
    "    for j in range(3):  \n",
    "        tcount = pokecolor.primary_color.loc[pokecolor.primary_type==types3[i,j]].value_counts()\n",
    "        poketotal3 = len(pokecolor.pokedex_number.loc[pokecolor.primary_type==types3[i,j]])\n",
    "        colortype[types3[i,j]] = tcount.plot.bar(rot=0,color=colortypes3[i,j],ax=axs[i,j],edgecolor='k',width=.85,label=f\"Total no. of Primarily\\n{types3[i,j]}-type Pokemon:\\n{poketotal3}\")\n",
    "        colortype[types3[i,j]].set_ylabel(\"Color Frequency\",fontsize=16)\n",
    "        colortype[types3[i,j]].set_title(f\"Color Distribution for {types3[i,j]}-Type Pokemon\", fontsize=18)\n",
    "        colortype[types3[i,j]].set_facecolor('xkcd:light peach')\n",
    "        plt.setp(colortype[types3[i,j]].get_xticklabels(), fontsize=14)\n",
    "        colortype[types3[i,j]].legend(loc='upper right',fontsize=14)\n",
    "plt.tight_layout()\n",
    "plt.savefig('./assets/plots/color-count/colorbytype3.png')\n",
    "plt.close('all')\n"
   ],
   "outputs": [],
   "metadata": {}
  },
  {
   "cell_type": "code",
   "execution_count": 38,
   "source": [
    "pokegen = pd.DataFrame([pokemon.name, pokemon.pokedex_number, pokemon.gen_introduced,pokemon.legendary,pokemon.mythical,pokemon.hp,pokemon.attack,pokemon.defense,pokemon.special_attack,pokemon.special_defense,pokemon.speed]).T"
   ],
   "outputs": [],
   "metadata": {}
  },
  {
   "cell_type": "code",
   "execution_count": 39,
   "source": [
    "pokegen.set_index(pokegen.name,inplace=True)\n",
    "pokegen.drop(columns='name', inplace=True)"
   ],
   "outputs": [],
   "metadata": {}
  },
  {
   "cell_type": "code",
   "execution_count": 40,
   "source": [
    "gengroup = pokegen.groupby('gen_introduced')\n",
    "legendno = []\n",
    "for i in range(1,9): \n",
    "    len1 = len(gengroup.get_group(i).loc[pokegen.legendary == True])\n",
    "    len2 = len(gengroup.get_group(i).loc[pokegen.mythical == True])\n",
    "    legendno.append(len1+len2)"
   ],
   "outputs": [],
   "metadata": {}
  },
  {
   "cell_type": "code",
   "execution_count": 51,
   "source": [
    "fig, ax = plt.subplots(facecolor='xkcd:light blue grey')\n",
    "ax.plot(range(1,9),legendno,color='xkcd:light eggplant',marker='o',markersize=6)\n",
    "ax.set_facecolor('xkcd:light gold')\n",
    "ax.set_xlabel('Generation Introduced')\n",
    "ax.set_ylabel('Number of Legendary and Mythical Pokemon')\n",
    "ax.set_title('The Number of Legendary and Mythical Pokemon\\nIntroduced Each Generation')\n",
    "plt.savefig('./assets/plots/generation-plots/legendaries.png')\n",
    "plt.close('all')"
   ],
   "outputs": [],
   "metadata": {}
  },
  {
   "cell_type": "code",
   "execution_count": 42,
   "source": [
    "forms = []\n",
    "for i in range(1,9):\n",
    "    forms.append(len(pokemon.groupby('gen_introduced').get_group(i).loc[pokemon.forms_switchable == True]))"
   ],
   "outputs": [],
   "metadata": {}
  },
  {
   "cell_type": "code",
   "execution_count": 50,
   "source": [
    "fig, ax = plt.subplots(facecolor='xkcd:light blue grey')\n",
    "ax.plot(range(1,9),forms,color='xkcd:light eggplant',marker='o',markersize=6)\n",
    "ax.set_facecolor('xkcd:light gold')\n",
    "ax.set_xlabel('Generation Introduced')\n",
    "ax.set_ylabel('Number of Pokemon with Alternate Forms')\n",
    "ax.set_title('The Number of Pokemon with Alternate Forms\\nIntroduced Each Generation')\n",
    "plt.savefig('./assets/plots/generation-plots/forms.png')\n",
    "plt.close('all')"
   ],
   "outputs": [],
   "metadata": {}
  },
  {
   "cell_type": "code",
   "execution_count": 44,
   "source": [
    "meanstatbygen = {s: [gengroup.get_group(i)[s].mean() for i in range(1,9)] for s in typenorm['Bug']['Stat']}\n",
    "medstatbygen = {s: [gengroup.get_group(i)[s].median() for i in range(1,9)] for s in typenorm['Bug']['Stat']}"
   ],
   "outputs": [],
   "metadata": {}
  },
  {
   "cell_type": "code",
   "execution_count": 45,
   "source": [
    "statarray = np.array([['hp','attack','defense'],['special_attack','special_defense','speed']])\n",
    "colorarray = np.array([['xkcd:fire engine red','xkcd:brick orange', 'xkcd:sunflower yellow'],['xkcd:clear blue', 'xkcd:lawn green', 'xkcd:magenta']])\n",
    "compcolors = np.array([['xkcd:pale light green','xkcd:pastel blue', 'xkcd:pastel purple'],['xkcd:pastel orange', 'xkcd:pale pink', 'xkcd:pastel yellow']])"
   ],
   "outputs": [],
   "metadata": {}
  },
  {
   "cell_type": "code",
   "execution_count": 46,
   "source": [
    "fig, axs = plt.subplots(2,3,figsize=(18,15),facecolor='xkcd:light blue grey')\n",
    "for i in range(2):\n",
    "    for j in range(3):\n",
    "        axs[i,j].plot(range(1,9),meanstatbygen[statarray[i,j]],color=colorarray[i,j],marker='o',markersize=6,label='Mean',linewidth=3)\n",
    "        axs[i,j].plot(range(1,9),medstatbygen[statarray[i,j]],color=colorarray[i,j],linestyle='dashed',marker='o',markersize=6, label='Median',linewidth=2)\n",
    "        axs[i,j].set_facecolor(compcolors[i,j])\n",
    "        axs[i,j].set_xlabel('Generation',fontsize=16)\n",
    "        axs[i,j].set_ylabel(f'{statarray[i,j].capitalize()}',fontsize=16)\n",
    "        axs[i,j].set_title(f'Mean vs. Median Pokemon {statarray[i,j].capitalize()}\\nby Generation',fontsize=18)\n",
    "        axs[i,j].legend(fontsize=16)\n",
    "plt.tight_layout()\n",
    "plt.savefig('./assets/plots/generation-plots/statsbygen.png')\n",
    "plt.close('all')"
   ],
   "outputs": [],
   "metadata": {}
  }
 ],
 "metadata": {
  "orig_nbformat": 4,
  "language_info": {
   "name": "python",
   "version": "3.8.8",
   "mimetype": "text/x-python",
   "codemirror_mode": {
    "name": "ipython",
    "version": 3
   },
   "pygments_lexer": "ipython3",
   "nbconvert_exporter": "python",
   "file_extension": ".py"
  },
  "kernelspec": {
   "name": "python3",
   "display_name": "Python 3.8.8 64-bit ('base': conda)"
  },
  "interpreter": {
   "hash": "3056ff0f1845929a8989f1bded2e103b0e50e44d85bf2567aa5138af1ce355cd"
  }
 },
 "nbformat": 4,
 "nbformat_minor": 2
}